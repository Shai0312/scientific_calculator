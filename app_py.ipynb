{
  "nbformat": 4,
  "nbformat_minor": 0,
  "metadata": {
    "colab": {
      "provenance": [],
      "authorship_tag": "ABX9TyNDkXErR5AFHOzCY2Ex9f4D",
      "include_colab_link": true
    },
    "kernelspec": {
      "name": "python3",
      "display_name": "Python 3"
    },
    "language_info": {
      "name": "python"
    }
  },
  "cells": [
    {
      "cell_type": "markdown",
      "metadata": {
        "id": "view-in-github",
        "colab_type": "text"
      },
      "source": [
        "<a href=\"https://colab.research.google.com/github/Shai0312/scientific_calculator/blob/main/app_py.ipynb\" target=\"_parent\"><img src=\"https://colab.research.google.com/assets/colab-badge.svg\" alt=\"Open In Colab\"/></a>"
      ]
    },
    {
      "cell_type": "code",
      "source": [
        "import streamlit as st\n",
        "import math\n",
        "\n",
        "# Title of the app\n",
        "st.title(\"Colorful Scientific Calculator\")\n",
        "\n",
        "# Input fields\n",
        "num1 = st.number_input(\"Enter Number 1:\", value=0.0)\n",
        "num2 = st.number_input(\"Enter Number 2:\", value=0.0)\n",
        "\n",
        "# Function to perform calculations\n",
        "def calculate(operation):\n",
        "    if operation == 'Add':\n",
        "        return num1 + num2\n",
        "    elif operation == 'Subtract':\n",
        "        return num1 - num2\n",
        "    elif operation == 'Multiply':\n",
        "        return num1 * num2\n",
        "    elif operation == 'Divide':\n",
        "        if num2 != 0:\n",
        "            return num1 / num2\n",
        "        else:\n",
        "            return \"Error! Division by zero.\"\n",
        "    elif operation == 'Power':\n",
        "        return num1 ** num2\n",
        "    elif operation == 'Square Root':\n",
        "        if num1 >= 0:\n",
        "            return math.sqrt(num1)\n",
        "        else:\n",
        "            return \"Error! Square root of negative number.\"\n",
        "    elif operation == 'Logarithm':\n",
        "        if num1 > 0:\n",
        "            return math.log10(num1)\n",
        "        else:\n",
        "            return \"Error! Logarithm of non-positive number.\"\n",
        "    elif operation == 'Sine':\n",
        "        return math.sin(math.radians(num1))\n",
        "    elif operation == 'Cosine':\n",
        "        return math.cos(math.radians(num1))\n",
        "    elif operation == 'Tangent':\n",
        "        return math.tan(math.radians(num1))\n",
        "\n",
        "# Select operation\n",
        "operation = st.selectbox(\"Select Operation:\", [\n",
        "    'Add', 'Subtract', 'Multiply', 'Divide',\n",
        "    'Power', 'Square Root', 'Logarithm',\n",
        "    'Sine', 'Cosine', 'Tangent'\n",
        "])\n",
        "\n",
        "# Calculate and display the result\n",
        "if st.button(\"Calculate\"):\n",
        "    result = calculate(operation)\n",
        "    st.write(\"Result:\", result)\n",
        "\n",
        "# Customize the appearance\n",
        "st.markdown(\"\"\"\n",
        "<style>\n",
        "    .stButton>button {\n",
        "        background-color: #FFA07A;\n",
        "        color: black;\n",
        "        font-weight: bold;\n",
        "    }\n",
        "</style>\n",
        "\"\"\", unsafe_allow_html=True)\n"
      ],
      "metadata": {
        "id": "ynbfpLbtVT7y"
      },
      "execution_count": null,
      "outputs": []
    }
  ]
}